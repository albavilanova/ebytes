{
 "cells": [
  {
   "cell_type": "markdown",
   "metadata": {},
   "source": [
    "# How to download TROPOMI data"
   ]
  },
  {
   "cell_type": "markdown",
   "metadata": {},
   "source": [
    "## 1. Import the library"
   ]
  },
  {
   "cell_type": "code",
   "execution_count": 1,
   "metadata": {},
   "outputs": [],
   "source": [
    "import sys\n",
    "tool_directory = '/home/avilanov/Desktop/Personal/Others/ebytes/'\n",
    "sys.path.append(tool_directory)\n",
    "import ebytes as eb"
   ]
  },
  {
   "cell_type": "markdown",
   "metadata": {},
   "source": [
    "## 2. L2 products"
   ]
  },
  {
   "cell_type": "markdown",
   "metadata": {},
   "source": [
    "### 2.1. Define product characteristics"
   ]
  },
  {
   "cell_type": "code",
   "execution_count": 2,
   "metadata": {},
   "outputs": [],
   "source": [
    "mission = 'sentinel-5p'\n",
    "path = tool_directory + 'data/'\n",
    "processing_lev = 'L2'\n",
    "parameter = 'NO2'\n",
    "input_type = 'query'\n",
    "start_date = '2021-11-18'\n",
    "end_date = '2021-11-18'\n",
    "lon_min = 0\n",
    "lon_max = 4\n",
    "lat_min = 40\n",
    "lat_max = 43"
   ]
  },
  {
   "cell_type": "markdown",
   "metadata": {},
   "source": [
    "### 2.2. Download data"
   ]
  },
  {
   "cell_type": "code",
   "execution_count": 3,
   "metadata": {},
   "outputs": [
    {
     "name": "stdout",
     "output_type": "stream",
     "text": [
      "WARNING: The maximum number of items that can be shown is 10.\n",
      "You can see all the results at https://s5phub.copernicus.eu/dhus/.\n",
      "There are no results for the processing mode NRT. The search in the offline archives will start.\n",
      "Number 0-S5P_OFFL_L2__NO2____20211118T112150_20211118T130320_21240_02_020301_20211120T033928\n",
      "SELECTED\n",
      "File name: c0858e18-3e8d-4885-8cf1-9c57236d07e7\n",
      "Product name: S5P_OFFL_L2__NO2____20211118T112150_20211118T130320_21240_02_020301_20211120T033928.nc\n",
      "The file does not exist, it will be downloaded.\n",
      "Downloading S5P_OFFL_L2__NO2____20211118T112150_20211118T130320_21240_02_020301_20211120T033928.nc...\n"
     ]
    },
    {
     "data": {
      "application/vnd.jupyter.widget-view+json": {
       "model_id": "c54dfa36a1244d46a0db60e050a05bd9",
       "version_major": 2,
       "version_minor": 0
      },
      "text/plain": [
       "Downloading S5P_OFFL_L2__NO2____20211118T112150_20211118T130320_21240_02_020301_20211120T033928.nc:   0%|     …"
      ]
     },
     "metadata": {},
     "output_type": "display_data"
    },
    {
     "data": {
      "application/vnd.jupyter.widget-view+json": {
       "model_id": "0032113ed38e4cfc92fe02a00ab94545",
       "version_major": 2,
       "version_minor": 0
      },
      "text/plain": [
       "MD5 checksumming:   0%|          | 0.00/595M [00:00<?, ?B/s]"
      ]
     },
     "metadata": {},
     "output_type": "display_data"
    },
    {
     "name": "stdout",
     "output_type": "stream",
     "text": [
      "Dataset was successfully downloaded!\n"
     ]
    }
   ],
   "source": [
    "data = eb.download_dataset(mission, path, processing_lev, parameter, input_type, \n",
    "                           start_date, end_date, lon_min, lon_max, lat_min, lat_max)"
   ]
  },
  {
   "cell_type": "markdown",
   "metadata": {},
   "source": [
    "## 3. L3 products"
   ]
  },
  {
   "cell_type": "markdown",
   "metadata": {},
   "source": [
    "### 3.1. Define product characteristics"
   ]
  },
  {
   "cell_type": "code",
   "execution_count": 4,
   "metadata": {},
   "outputs": [],
   "source": [
    "mission = 'sentinel-5p'\n",
    "path = tool_directory + 'data/'\n",
    "processing_lev = 'L3'\n",
    "parameter = 'NO2'\n",
    "start_date = '2021-11-18'\n",
    "end_date = '2021-11-18'\n",
    "lon_min = 0\n",
    "lon_max = 4\n",
    "lat_min = 40\n",
    "lat_max = 43"
   ]
  },
  {
   "cell_type": "markdown",
   "metadata": {},
   "source": [
    "### 3.2. Download data"
   ]
  },
  {
   "cell_type": "code",
   "execution_count": 5,
   "metadata": {},
   "outputs": [
    {
     "name": "stdout",
     "output_type": "stream",
     "text": [
      "/home/avilanov/Desktop/Personal/Others/ebytes/data//sentinel-5p/L3/NO2/2021-11/TROPOMI_L3_NO2_COLUMN_202111.asc.gz\n",
      "TROPOMI_L3_NO2_COLUMN_202111.asc.gz was downloaded.\n"
     ]
    }
   ],
   "source": [
    "data = eb.download_dataset(mission, path, processing_lev, parameter, input_type, \n",
    "                           start_date, end_date, lon_min, lon_max, lat_min, lat_max)"
   ]
  }
 ],
 "metadata": {
  "kernelspec": {
   "display_name": "Python 3.9.12 ('base')",
   "language": "python",
   "name": "python3"
  },
  "language_info": {
   "codemirror_mode": {
    "name": "ipython",
    "version": 3
   },
   "file_extension": ".py",
   "mimetype": "text/x-python",
   "name": "python",
   "nbconvert_exporter": "python",
   "pygments_lexer": "ipython3",
   "version": "3.9.12"
  },
  "orig_nbformat": 4,
  "vscode": {
   "interpreter": {
    "hash": "7cf15f239fff3e069f5a1feccdb336957b4cea770b47077c5bdb9f6fbe979bf2"
   }
  }
 },
 "nbformat": 4,
 "nbformat_minor": 2
}
